{
 "cells": [
  {
   "cell_type": "code",
   "execution_count": null,
   "metadata": {},
   "outputs": [],
   "source": [
    "import pandas as pd\n",
    "import plotly.express as px\n",
    "import plotly.graph_objects as go\n",
    "from afinn import Afinn\n",
    "from dash import Dash\n",
    "from dash import dcc\n",
    "from dash import html\n",
    "from dash.dependencies import Input, Output"
   ]
  },
  {
   "cell_type": "code",
   "execution_count": null,
   "metadata": {},
   "outputs": [],
   "source": [
    "# https://nealcaren.org/lessons/wordlists/\n",
    "afinn = Afinn(language='en')"
   ]
  },
  {
   "cell_type": "code",
   "execution_count": null,
   "metadata": {},
   "outputs": [],
   "source": [
    "social_media_df = pd.read_csv('hw05-data/YInt Social Media Data/YInt.csv')\n",
    "social_media_df['time'] = pd.to_datetime(social_media_df['time'])"
   ]
  },
  {
   "cell_type": "code",
   "execution_count": null,
   "metadata": {},
   "outputs": [],
   "source": [
    "# social_media_df['sentiment_score'] = social_media_df['message'].apply(afinn.score)\n",
    "def apply_sentiment_analysis(message):\n",
    "    return afinn.score(str(message))\n",
    "social_media_df['sentiment_score'] = social_media_df['message'].apply(apply_sentiment_analysis)"
   ]
  },
  {
   "cell_type": "code",
   "execution_count": null,
   "metadata": {},
   "outputs": [],
   "source": [
    "# group messages by 1 hour\n",
    "social_media_df['time'] = pd.to_datetime(social_media_df['time'], errors='coerce').dt.floor('1h')"
   ]
  },
  {
   "cell_type": "code",
   "execution_count": null,
   "metadata": {},
   "outputs": [],
   "source": [
    "messages_by_neighborhood = social_media_df[['time', 'location', 'sentiment_score']].groupby(['time', 'location']).median().reset_index()"
   ]
  },
  {
   "cell_type": "code",
   "execution_count": null,
   "metadata": {},
   "outputs": [],
   "source": [
    "def int_to_neighborhood(i):\n",
    "    match i:\n",
    "        case(1):\n",
    "            return 'Palace Hills'\n",
    "        case(2):\n",
    "            return 'Northwest'\n",
    "        case(3):\n",
    "            return 'Old Town'\n",
    "        case(4):\n",
    "            return 'Safe Town'\n",
    "        case(5):\n",
    "            return 'Southwest'\n",
    "        case(6):\n",
    "            return 'Downtown'\n",
    "        case(7):\n",
    "            return 'Wilson Forest'\n",
    "        case(8):\n",
    "            return 'Scenic Vista'\n",
    "        case(9):\n",
    "            return 'Broadview'\n",
    "        case(10):\n",
    "            return 'Chapparal'\n",
    "        case(11):\n",
    "            return 'Terrapin Springs'\n",
    "        case(12):\n",
    "            return 'Pepper Mill'\n",
    "        case(13):\n",
    "            return 'Cheddarford'\n",
    "        case(14):\n",
    "            return 'Easton'\n",
    "        case(15):\n",
    "            return 'Weston'\n",
    "        case(16):\n",
    "            return 'Southton'\n",
    "        case(17):\n",
    "            return 'Oak Willow'\n",
    "        case(18):\n",
    "            return 'East Parton'\n",
    "        case(19):\n",
    "            return 'West Parton'"
   ]
  },
  {
   "cell_type": "code",
   "execution_count": null,
   "metadata": {},
   "outputs": [],
   "source": [
    "damage_report_df = pd.read_csv('hw05-data/Damage Reports/mc1-reports-data.csv')\n",
    "damage_report_df['time'] = pd.to_datetime(damage_report_df['time'])\n",
    "# damage_report_df['location'] = damage_report_df['location'].astype(str)\n",
    "\n",
    "    \n",
    "damage_report_df['time'] = pd.to_datetime(damage_report_df['time'], errors='coerce').dt.floor('1h')\n",
    "damage_report_df['location'] = damage_report_df['location'].apply(int_to_neighborhood)\n",
    "grouped_damage = damage_report_df.groupby(['location', 'time']).max().reset_index()\n",
    "grouped_damage['overall_damage'] = grouped_damage[['sewer_and_water', 'power', 'roads_and_bridges', 'medical', 'buildings']].mean(axis=1)\n",
    "grouped_damage"
   ]
  },
  {
   "cell_type": "code",
   "execution_count": null,
   "metadata": {},
   "outputs": [],
   "source": [
    "merged_sentiment_shake = messages_by_neighborhood.merge(grouped_damage[['time', 'location', 'shake_intensity', 'overall_damage']], how='inner', on=['time', 'location'])\n",
    "merged_sentiment_shake"
   ]
  },
  {
   "cell_type": "code",
   "execution_count": null,
   "metadata": {},
   "outputs": [],
   "source": [
    "traces = {}\n",
    "for location in merged_sentiment_shake['location'].unique():\n",
    "    filtered_df = merged_sentiment_shake[merged_sentiment_shake['location'] == location]\n",
    "    traces[location] = []\n",
    "    traces[location].extend(\n",
    "        [go.Scatter(\n",
    "            x = filtered_df['time'],\n",
    "            y = filtered_df['sentiment_score'],\n",
    "            name = f\"mean sentiment score\"\n",
    "        ),\n",
    "        go.Scatter(\n",
    "            x = filtered_df['time'],\n",
    "            y = filtered_df['overall_damage'],\n",
    "            name = f\"mean damage score\"\n",
    "        ),\n",
    "        go.Scatter(\n",
    "            x = filtered_df['time'],\n",
    "            y = filtered_df['shake_intensity'],\n",
    "            name = f\"max shake intensity\"\n",
    "        )]\n",
    "    )"
   ]
  },
  {
   "cell_type": "code",
   "execution_count": null,
   "metadata": {},
   "outputs": [],
   "source": [
    "fig = go.Figure()\n",
    "location = \"Southton\"\n",
    "for trace in traces[location]:\n",
    "    fig.add_trace(trace)\n",
    "fig.update_layout({\n",
    "    \"title\": f\"Damage vs Shake Intensity vs Social Media Sentiment Score for {location}\"\n",
    "}\n",
    ")\n",
    "fig.show()"
   ]
  },
  {
   "cell_type": "code",
   "execution_count": null,
   "metadata": {},
   "outputs": [],
   "source": [
    "figure = go.Figure()\n",
    "app = Dash(__name__)\n",
    "app.layout = html.Div([\n",
    "    dcc.Dropdown(\n",
    "        merged_sentiment_shake['location'].unique(), \n",
    "        'Southton', \n",
    "        id='selected_location',\n",
    "        style={'width':'50%', 'margin-left':'auto'}\n",
    "    ),\n",
    "    dcc.Graph(id='my-graph', figure=figure),\n",
    "])\n",
    "@app.callback(\n",
    "    Output(component_id='my-graph', component_property='figure'),\n",
    "    Input(component_id='selected_location', component_property='value')\n",
    ")\n",
    "def update_graph(selected_location):\n",
    "    print(f'updating to {selected_location}')\n",
    "    figure = go.Figure()\n",
    "    for trace in traces[selected_location]:\n",
    "        figure.add_trace(trace)\n",
    "    figure.update_layout({\n",
    "        \"title\": f\"Damage vs Shake Intensity vs Social Media Sentiment Score for {selected_location}\"\n",
    "    })\n",
    "    return figure\n",
    "\n",
    "app.run_server(debug=True)"
   ]
  }
 ],
 "metadata": {
  "kernelspec": {
   "display_name": "csc235env",
   "language": "python",
   "name": "python3"
  },
  "language_info": {
   "codemirror_mode": {
    "name": "ipython",
    "version": 3
   },
   "file_extension": ".py",
   "mimetype": "text/x-python",
   "name": "python",
   "nbconvert_exporter": "python",
   "pygments_lexer": "ipython3",
   "version": "3.10.9"
  }
 },
 "nbformat": 4,
 "nbformat_minor": 2
}
