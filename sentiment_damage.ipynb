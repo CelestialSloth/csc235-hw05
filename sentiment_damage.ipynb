{
 "cells": [
  {
   "cell_type": "code",
   "execution_count": 52,
   "metadata": {},
   "outputs": [],
   "source": [
    "import pandas as pd\n",
    "import plotly.express as px\n",
    "import plotly.graph_objects as go\n",
    "from afinn import Afinn\n",
    "from dash import Dash\n",
    "from dash import dcc\n",
    "from dash import html\n",
    "from dash.dependencies import Input, Output"
   ]
  },
  {
   "cell_type": "code",
   "execution_count": 40,
   "metadata": {},
   "outputs": [],
   "source": [
    "# https://nealcaren.org/lessons/wordlists/\n",
    "afinn = Afinn(language='en')"
   ]
  },
  {
   "cell_type": "code",
   "execution_count": 41,
   "metadata": {},
   "outputs": [],
   "source": [
    "social_media_df = pd.read_csv('hw05-data/YInt Social Media Data/YInt.csv')\n",
    "social_media_df['time'] = pd.to_datetime(social_media_df['time'])"
   ]
  },
  {
   "cell_type": "code",
   "execution_count": 42,
   "metadata": {},
   "outputs": [],
   "source": [
    "# social_media_df['sentiment_score'] = social_media_df['message'].apply(afinn.score)\n",
    "def apply_sentiment_analysis(message):\n",
    "    return afinn.score(str(message))\n",
    "social_media_df['sentiment_score'] = social_media_df['message'].apply(apply_sentiment_analysis)"
   ]
  },
  {
   "cell_type": "code",
   "execution_count": 43,
   "metadata": {},
   "outputs": [],
   "source": [
    "# group messages by 1 hour\n",
    "social_media_df['time'] = pd.to_datetime(social_media_df['time'], errors='coerce').dt.floor('1h')"
   ]
  },
  {
   "cell_type": "code",
   "execution_count": 44,
   "metadata": {},
   "outputs": [],
   "source": [
    "messages_by_neighborhood = social_media_df[['time', 'location', 'sentiment_score']].groupby(['time', 'location']).median().reset_index()"
   ]
  },
  {
   "cell_type": "code",
   "execution_count": 45,
   "metadata": {},
   "outputs": [],
   "source": [
    "def int_to_neighborhood(i):\n",
    "    match i:\n",
    "        case(1):\n",
    "            return 'Palace Hills'\n",
    "        case(2):\n",
    "            return 'Northwest'\n",
    "        case(3):\n",
    "            return 'Old Town'\n",
    "        case(4):\n",
    "            return 'Safe Town'\n",
    "        case(5):\n",
    "            return 'Southwest'\n",
    "        case(6):\n",
    "            return 'Downtown'\n",
    "        case(7):\n",
    "            return 'Wilson Forest'\n",
    "        case(8):\n",
    "            return 'Scenic Vista'\n",
    "        case(9):\n",
    "            return 'Broadview'\n",
    "        case(10):\n",
    "            return 'Chapparal'\n",
    "        case(11):\n",
    "            return 'Terrapin Springs'\n",
    "        case(12):\n",
    "            return 'Pepper Mill'\n",
    "        case(13):\n",
    "            return 'Cheddarford'\n",
    "        case(14):\n",
    "            return 'Easton'\n",
    "        case(15):\n",
    "            return 'Weston'\n",
    "        case(16):\n",
    "            return 'Southton'\n",
    "        case(17):\n",
    "            return 'Oak Willow'\n",
    "        case(18):\n",
    "            return 'East Parton'\n",
    "        case(19):\n",
    "            return 'West Parton'"
   ]
  },
  {
   "cell_type": "code",
   "execution_count": 46,
   "metadata": {},
   "outputs": [
    {
     "data": {
      "text/html": [
       "<div>\n",
       "<style scoped>\n",
       "    .dataframe tbody tr th:only-of-type {\n",
       "        vertical-align: middle;\n",
       "    }\n",
       "\n",
       "    .dataframe tbody tr th {\n",
       "        vertical-align: top;\n",
       "    }\n",
       "\n",
       "    .dataframe thead th {\n",
       "        text-align: right;\n",
       "    }\n",
       "</style>\n",
       "<table border=\"1\" class=\"dataframe\">\n",
       "  <thead>\n",
       "    <tr style=\"text-align: right;\">\n",
       "      <th></th>\n",
       "      <th>location</th>\n",
       "      <th>time</th>\n",
       "      <th>sewer_and_water</th>\n",
       "      <th>power</th>\n",
       "      <th>roads_and_bridges</th>\n",
       "      <th>medical</th>\n",
       "      <th>buildings</th>\n",
       "      <th>shake_intensity</th>\n",
       "      <th>overall_damage</th>\n",
       "    </tr>\n",
       "  </thead>\n",
       "  <tbody>\n",
       "    <tr>\n",
       "      <th>0</th>\n",
       "      <td>Broadview</td>\n",
       "      <td>2020-04-06 00:00:00</td>\n",
       "      <td>8.0</td>\n",
       "      <td>9.0</td>\n",
       "      <td>9.0</td>\n",
       "      <td>6.0</td>\n",
       "      <td>9.0</td>\n",
       "      <td>NaN</td>\n",
       "      <td>8.2</td>\n",
       "    </tr>\n",
       "    <tr>\n",
       "      <th>1</th>\n",
       "      <td>Broadview</td>\n",
       "      <td>2020-04-06 01:00:00</td>\n",
       "      <td>10.0</td>\n",
       "      <td>10.0</td>\n",
       "      <td>10.0</td>\n",
       "      <td>10.0</td>\n",
       "      <td>10.0</td>\n",
       "      <td>NaN</td>\n",
       "      <td>10.0</td>\n",
       "    </tr>\n",
       "    <tr>\n",
       "      <th>2</th>\n",
       "      <td>Broadview</td>\n",
       "      <td>2020-04-06 02:00:00</td>\n",
       "      <td>10.0</td>\n",
       "      <td>10.0</td>\n",
       "      <td>10.0</td>\n",
       "      <td>10.0</td>\n",
       "      <td>10.0</td>\n",
       "      <td>NaN</td>\n",
       "      <td>10.0</td>\n",
       "    </tr>\n",
       "    <tr>\n",
       "      <th>3</th>\n",
       "      <td>Broadview</td>\n",
       "      <td>2020-04-06 03:00:00</td>\n",
       "      <td>10.0</td>\n",
       "      <td>10.0</td>\n",
       "      <td>10.0</td>\n",
       "      <td>10.0</td>\n",
       "      <td>10.0</td>\n",
       "      <td>NaN</td>\n",
       "      <td>10.0</td>\n",
       "    </tr>\n",
       "    <tr>\n",
       "      <th>4</th>\n",
       "      <td>Broadview</td>\n",
       "      <td>2020-04-06 04:00:00</td>\n",
       "      <td>10.0</td>\n",
       "      <td>10.0</td>\n",
       "      <td>10.0</td>\n",
       "      <td>10.0</td>\n",
       "      <td>10.0</td>\n",
       "      <td>0.0</td>\n",
       "      <td>10.0</td>\n",
       "    </tr>\n",
       "    <tr>\n",
       "      <th>...</th>\n",
       "      <td>...</td>\n",
       "      <td>...</td>\n",
       "      <td>...</td>\n",
       "      <td>...</td>\n",
       "      <td>...</td>\n",
       "      <td>...</td>\n",
       "      <td>...</td>\n",
       "      <td>...</td>\n",
       "      <td>...</td>\n",
       "    </tr>\n",
       "    <tr>\n",
       "      <th>1987</th>\n",
       "      <td>Wilson Forest</td>\n",
       "      <td>2020-04-09 17:00:00</td>\n",
       "      <td>NaN</td>\n",
       "      <td>8.0</td>\n",
       "      <td>7.0</td>\n",
       "      <td>NaN</td>\n",
       "      <td>NaN</td>\n",
       "      <td>5.0</td>\n",
       "      <td>7.5</td>\n",
       "    </tr>\n",
       "    <tr>\n",
       "      <th>1988</th>\n",
       "      <td>Wilson Forest</td>\n",
       "      <td>2020-04-09 18:00:00</td>\n",
       "      <td>NaN</td>\n",
       "      <td>8.0</td>\n",
       "      <td>7.0</td>\n",
       "      <td>NaN</td>\n",
       "      <td>NaN</td>\n",
       "      <td>4.0</td>\n",
       "      <td>7.5</td>\n",
       "    </tr>\n",
       "    <tr>\n",
       "      <th>1989</th>\n",
       "      <td>Wilson Forest</td>\n",
       "      <td>2020-04-09 23:00:00</td>\n",
       "      <td>NaN</td>\n",
       "      <td>10.0</td>\n",
       "      <td>0.0</td>\n",
       "      <td>NaN</td>\n",
       "      <td>NaN</td>\n",
       "      <td>NaN</td>\n",
       "      <td>5.0</td>\n",
       "    </tr>\n",
       "    <tr>\n",
       "      <th>1990</th>\n",
       "      <td>Wilson Forest</td>\n",
       "      <td>2020-04-10 19:00:00</td>\n",
       "      <td>NaN</td>\n",
       "      <td>10.0</td>\n",
       "      <td>2.0</td>\n",
       "      <td>NaN</td>\n",
       "      <td>NaN</td>\n",
       "      <td>0.0</td>\n",
       "      <td>6.0</td>\n",
       "    </tr>\n",
       "    <tr>\n",
       "      <th>1991</th>\n",
       "      <td>Wilson Forest</td>\n",
       "      <td>2020-04-10 20:00:00</td>\n",
       "      <td>NaN</td>\n",
       "      <td>10.0</td>\n",
       "      <td>0.0</td>\n",
       "      <td>NaN</td>\n",
       "      <td>NaN</td>\n",
       "      <td>NaN</td>\n",
       "      <td>5.0</td>\n",
       "    </tr>\n",
       "  </tbody>\n",
       "</table>\n",
       "<p>1992 rows × 9 columns</p>\n",
       "</div>"
      ],
      "text/plain": [
       "           location                time  sewer_and_water  power  \\\n",
       "0         Broadview 2020-04-06 00:00:00              8.0    9.0   \n",
       "1         Broadview 2020-04-06 01:00:00             10.0   10.0   \n",
       "2         Broadview 2020-04-06 02:00:00             10.0   10.0   \n",
       "3         Broadview 2020-04-06 03:00:00             10.0   10.0   \n",
       "4         Broadview 2020-04-06 04:00:00             10.0   10.0   \n",
       "...             ...                 ...              ...    ...   \n",
       "1987  Wilson Forest 2020-04-09 17:00:00              NaN    8.0   \n",
       "1988  Wilson Forest 2020-04-09 18:00:00              NaN    8.0   \n",
       "1989  Wilson Forest 2020-04-09 23:00:00              NaN   10.0   \n",
       "1990  Wilson Forest 2020-04-10 19:00:00              NaN   10.0   \n",
       "1991  Wilson Forest 2020-04-10 20:00:00              NaN   10.0   \n",
       "\n",
       "      roads_and_bridges  medical  buildings  shake_intensity  overall_damage  \n",
       "0                   9.0      6.0        9.0              NaN             8.2  \n",
       "1                  10.0     10.0       10.0              NaN            10.0  \n",
       "2                  10.0     10.0       10.0              NaN            10.0  \n",
       "3                  10.0     10.0       10.0              NaN            10.0  \n",
       "4                  10.0     10.0       10.0              0.0            10.0  \n",
       "...                 ...      ...        ...              ...             ...  \n",
       "1987                7.0      NaN        NaN              5.0             7.5  \n",
       "1988                7.0      NaN        NaN              4.0             7.5  \n",
       "1989                0.0      NaN        NaN              NaN             5.0  \n",
       "1990                2.0      NaN        NaN              0.0             6.0  \n",
       "1991                0.0      NaN        NaN              NaN             5.0  \n",
       "\n",
       "[1992 rows x 9 columns]"
      ]
     },
     "execution_count": 46,
     "metadata": {},
     "output_type": "execute_result"
    }
   ],
   "source": [
    "damage_report_df = pd.read_csv('hw05-data/Damage Reports/mc1-reports-data.csv')\n",
    "damage_report_df['time'] = pd.to_datetime(damage_report_df['time'])\n",
    "# damage_report_df['location'] = damage_report_df['location'].astype(str)\n",
    "\n",
    "    \n",
    "damage_report_df['time'] = pd.to_datetime(damage_report_df['time'], errors='coerce').dt.floor('1h')\n",
    "damage_report_df['location'] = damage_report_df['location'].apply(int_to_neighborhood)\n",
    "grouped_damage = damage_report_df.groupby(['location', 'time']).max().reset_index()\n",
    "grouped_damage['overall_damage'] = grouped_damage[['sewer_and_water', 'power', 'roads_and_bridges', 'medical', 'buildings']].mean(axis=1)\n",
    "grouped_damage"
   ]
  },
  {
   "cell_type": "code",
   "execution_count": 47,
   "metadata": {},
   "outputs": [
    {
     "data": {
      "text/html": [
       "<div>\n",
       "<style scoped>\n",
       "    .dataframe tbody tr th:only-of-type {\n",
       "        vertical-align: middle;\n",
       "    }\n",
       "\n",
       "    .dataframe tbody tr th {\n",
       "        vertical-align: top;\n",
       "    }\n",
       "\n",
       "    .dataframe thead th {\n",
       "        text-align: right;\n",
       "    }\n",
       "</style>\n",
       "<table border=\"1\" class=\"dataframe\">\n",
       "  <thead>\n",
       "    <tr style=\"text-align: right;\">\n",
       "      <th></th>\n",
       "      <th>time</th>\n",
       "      <th>location</th>\n",
       "      <th>sentiment_score</th>\n",
       "      <th>shake_intensity</th>\n",
       "      <th>overall_damage</th>\n",
       "    </tr>\n",
       "  </thead>\n",
       "  <tbody>\n",
       "    <tr>\n",
       "      <th>0</th>\n",
       "      <td>2020-04-06 00:00:00</td>\n",
       "      <td>Broadview</td>\n",
       "      <td>0.0</td>\n",
       "      <td>NaN</td>\n",
       "      <td>8.20</td>\n",
       "    </tr>\n",
       "    <tr>\n",
       "      <th>1</th>\n",
       "      <td>2020-04-06 00:00:00</td>\n",
       "      <td>Cheddarford</td>\n",
       "      <td>1.5</td>\n",
       "      <td>NaN</td>\n",
       "      <td>4.50</td>\n",
       "    </tr>\n",
       "    <tr>\n",
       "      <th>2</th>\n",
       "      <td>2020-04-06 00:00:00</td>\n",
       "      <td>Downtown</td>\n",
       "      <td>-3.0</td>\n",
       "      <td>1.0</td>\n",
       "      <td>9.60</td>\n",
       "    </tr>\n",
       "    <tr>\n",
       "      <th>3</th>\n",
       "      <td>2020-04-06 00:00:00</td>\n",
       "      <td>East Parton</td>\n",
       "      <td>1.5</td>\n",
       "      <td>0.0</td>\n",
       "      <td>7.00</td>\n",
       "    </tr>\n",
       "    <tr>\n",
       "      <th>4</th>\n",
       "      <td>2020-04-06 00:00:00</td>\n",
       "      <td>Old Town</td>\n",
       "      <td>-1.5</td>\n",
       "      <td>1.0</td>\n",
       "      <td>9.60</td>\n",
       "    </tr>\n",
       "    <tr>\n",
       "      <th>...</th>\n",
       "      <td>...</td>\n",
       "      <td>...</td>\n",
       "      <td>...</td>\n",
       "      <td>...</td>\n",
       "      <td>...</td>\n",
       "    </tr>\n",
       "    <tr>\n",
       "      <th>1723</th>\n",
       "      <td>2020-04-10 11:00:00</td>\n",
       "      <td>Southton</td>\n",
       "      <td>0.0</td>\n",
       "      <td>NaN</td>\n",
       "      <td>7.80</td>\n",
       "    </tr>\n",
       "    <tr>\n",
       "      <th>1724</th>\n",
       "      <td>2020-04-10 11:00:00</td>\n",
       "      <td>Southwest</td>\n",
       "      <td>0.0</td>\n",
       "      <td>0.0</td>\n",
       "      <td>8.80</td>\n",
       "    </tr>\n",
       "    <tr>\n",
       "      <th>1725</th>\n",
       "      <td>2020-04-10 11:00:00</td>\n",
       "      <td>Terrapin Springs</td>\n",
       "      <td>0.0</td>\n",
       "      <td>1.0</td>\n",
       "      <td>9.60</td>\n",
       "    </tr>\n",
       "    <tr>\n",
       "      <th>1726</th>\n",
       "      <td>2020-04-10 11:00:00</td>\n",
       "      <td>West Parton</td>\n",
       "      <td>0.0</td>\n",
       "      <td>0.0</td>\n",
       "      <td>9.25</td>\n",
       "    </tr>\n",
       "    <tr>\n",
       "      <th>1727</th>\n",
       "      <td>2020-04-10 11:00:00</td>\n",
       "      <td>Weston</td>\n",
       "      <td>0.0</td>\n",
       "      <td>1.0</td>\n",
       "      <td>7.60</td>\n",
       "    </tr>\n",
       "  </tbody>\n",
       "</table>\n",
       "<p>1728 rows × 5 columns</p>\n",
       "</div>"
      ],
      "text/plain": [
       "                    time          location  sentiment_score  shake_intensity  \\\n",
       "0    2020-04-06 00:00:00         Broadview              0.0              NaN   \n",
       "1    2020-04-06 00:00:00       Cheddarford              1.5              NaN   \n",
       "2    2020-04-06 00:00:00          Downtown             -3.0              1.0   \n",
       "3    2020-04-06 00:00:00       East Parton              1.5              0.0   \n",
       "4    2020-04-06 00:00:00          Old Town             -1.5              1.0   \n",
       "...                  ...               ...              ...              ...   \n",
       "1723 2020-04-10 11:00:00          Southton              0.0              NaN   \n",
       "1724 2020-04-10 11:00:00         Southwest              0.0              0.0   \n",
       "1725 2020-04-10 11:00:00  Terrapin Springs              0.0              1.0   \n",
       "1726 2020-04-10 11:00:00       West Parton              0.0              0.0   \n",
       "1727 2020-04-10 11:00:00            Weston              0.0              1.0   \n",
       "\n",
       "      overall_damage  \n",
       "0               8.20  \n",
       "1               4.50  \n",
       "2               9.60  \n",
       "3               7.00  \n",
       "4               9.60  \n",
       "...              ...  \n",
       "1723            7.80  \n",
       "1724            8.80  \n",
       "1725            9.60  \n",
       "1726            9.25  \n",
       "1727            7.60  \n",
       "\n",
       "[1728 rows x 5 columns]"
      ]
     },
     "execution_count": 47,
     "metadata": {},
     "output_type": "execute_result"
    }
   ],
   "source": [
    "merged_sentiment_shake = messages_by_neighborhood.merge(grouped_damage[['time', 'location', 'shake_intensity', 'overall_damage']], how='inner', on=['time', 'location'])\n",
    "merged_sentiment_shake"
   ]
  },
  {
   "cell_type": "code",
   "execution_count": 48,
   "metadata": {},
   "outputs": [],
   "source": [
    "traces = {}\n",
    "for location in merged_sentiment_shake['location'].unique():\n",
    "    filtered_df = merged_sentiment_shake[merged_sentiment_shake['location'] == location]\n",
    "    traces[location] = []\n",
    "    traces[location].extend(\n",
    "        [go.Scatter(\n",
    "            x = filtered_df['time'],\n",
    "            y = filtered_df['sentiment_score'],\n",
    "            name = f\"mean sentiment score\"\n",
    "        ),\n",
    "        go.Scatter(\n",
    "            x = filtered_df['time'],\n",
    "            y = filtered_df['overall_damage'],\n",
    "            name = f\"mean damage score\"\n",
    "        ),\n",
    "        go.Scatter(\n",
    "            x = filtered_df['time'],\n",
    "            y = filtered_df['shake_intensity'],\n",
    "            name = f\"max shake intensity\"\n",
    "        )]\n",
    "    )"
   ]
  },
  {
   "cell_type": "code",
   "execution_count": 51,
   "metadata": {},
   "outputs": [
    {
     "data": {
      "application/vnd.plotly.v1+json": {
       "config": {
        "plotlyServerURL": "https://plot.ly"
       },
       "data": [
        {
         "name": "mean sentiment score",
         "type": "scatter",
         "x": [
          "2020-04-06T00:00:00",
          "2020-04-06T01:00:00",
          "2020-04-06T03:00:00",
          "2020-04-06T04:00:00",
          "2020-04-06T05:00:00",
          "2020-04-06T06:00:00",
          "2020-04-06T07:00:00",
          "2020-04-06T08:00:00",
          "2020-04-06T09:00:00",
          "2020-04-06T10:00:00",
          "2020-04-06T11:00:00",
          "2020-04-06T12:00:00",
          "2020-04-06T13:00:00",
          "2020-04-06T14:00:00",
          "2020-04-06T15:00:00",
          "2020-04-06T16:00:00",
          "2020-04-06T17:00:00",
          "2020-04-06T18:00:00",
          "2020-04-06T19:00:00",
          "2020-04-06T20:00:00",
          "2020-04-06T21:00:00",
          "2020-04-06T22:00:00",
          "2020-04-06T23:00:00",
          "2020-04-07T00:00:00",
          "2020-04-07T01:00:00",
          "2020-04-07T02:00:00",
          "2020-04-07T03:00:00",
          "2020-04-07T04:00:00",
          "2020-04-07T05:00:00",
          "2020-04-07T06:00:00",
          "2020-04-07T07:00:00",
          "2020-04-07T08:00:00",
          "2020-04-07T09:00:00",
          "2020-04-07T10:00:00",
          "2020-04-07T11:00:00",
          "2020-04-07T12:00:00",
          "2020-04-07T13:00:00",
          "2020-04-07T14:00:00",
          "2020-04-07T15:00:00",
          "2020-04-07T16:00:00",
          "2020-04-07T17:00:00",
          "2020-04-07T18:00:00",
          "2020-04-07T19:00:00",
          "2020-04-07T20:00:00",
          "2020-04-07T21:00:00",
          "2020-04-07T22:00:00",
          "2020-04-07T23:00:00",
          "2020-04-08T00:00:00",
          "2020-04-08T01:00:00",
          "2020-04-08T02:00:00",
          "2020-04-08T03:00:00",
          "2020-04-08T04:00:00",
          "2020-04-08T05:00:00",
          "2020-04-08T06:00:00",
          "2020-04-08T07:00:00",
          "2020-04-08T08:00:00",
          "2020-04-08T09:00:00",
          "2020-04-08T10:00:00",
          "2020-04-08T11:00:00",
          "2020-04-08T12:00:00",
          "2020-04-08T13:00:00",
          "2020-04-08T14:00:00",
          "2020-04-08T15:00:00",
          "2020-04-08T16:00:00",
          "2020-04-08T17:00:00",
          "2020-04-08T18:00:00",
          "2020-04-08T19:00:00",
          "2020-04-08T20:00:00",
          "2020-04-08T22:00:00",
          "2020-04-08T23:00:00",
          "2020-04-09T00:00:00",
          "2020-04-09T01:00:00",
          "2020-04-09T02:00:00",
          "2020-04-09T03:00:00",
          "2020-04-09T04:00:00",
          "2020-04-09T05:00:00",
          "2020-04-09T06:00:00",
          "2020-04-09T07:00:00",
          "2020-04-09T08:00:00",
          "2020-04-09T09:00:00",
          "2020-04-09T10:00:00",
          "2020-04-09T11:00:00",
          "2020-04-09T12:00:00",
          "2020-04-09T13:00:00",
          "2020-04-09T14:00:00",
          "2020-04-09T15:00:00",
          "2020-04-09T16:00:00",
          "2020-04-09T17:00:00",
          "2020-04-09T18:00:00",
          "2020-04-09T19:00:00",
          "2020-04-09T20:00:00",
          "2020-04-09T21:00:00",
          "2020-04-09T22:00:00",
          "2020-04-09T23:00:00",
          "2020-04-10T00:00:00",
          "2020-04-10T01:00:00",
          "2020-04-10T02:00:00",
          "2020-04-10T03:00:00",
          "2020-04-10T04:00:00",
          "2020-04-10T05:00:00",
          "2020-04-10T06:00:00",
          "2020-04-10T07:00:00",
          "2020-04-10T08:00:00",
          "2020-04-10T09:00:00",
          "2020-04-10T10:00:00",
          "2020-04-10T11:00:00"
         ],
         "y": [
          -2,
          3,
          1.5,
          1,
          3,
          1,
          1,
          0.5,
          1,
          1,
          1,
          0,
          1,
          0,
          1,
          1,
          1,
          1,
          0,
          2,
          0,
          0,
          0,
          0,
          -2,
          1.5,
          -0.5,
          0,
          1,
          1,
          0,
          0.5,
          0,
          1,
          0,
          0,
          0,
          0,
          0,
          2,
          1.5,
          0,
          0,
          0,
          0,
          2,
          2,
          0,
          1.5,
          0,
          0,
          2,
          0,
          0,
          0,
          0,
          0,
          -1,
          0,
          0,
          0,
          0,
          0,
          0,
          0,
          0,
          0,
          -1,
          -1.5,
          0,
          0,
          -4,
          0,
          0,
          1,
          0,
          0,
          0,
          0,
          0,
          0,
          0,
          1,
          0,
          0,
          0,
          0,
          0,
          1.5,
          0,
          1,
          0,
          0,
          0,
          0,
          0,
          0,
          0,
          0,
          0,
          0,
          0,
          0,
          0,
          0,
          0
         ]
        },
        {
         "name": "mean damage score",
         "type": "scatter",
         "x": [
          "2020-04-06T00:00:00",
          "2020-04-06T01:00:00",
          "2020-04-06T03:00:00",
          "2020-04-06T04:00:00",
          "2020-04-06T05:00:00",
          "2020-04-06T06:00:00",
          "2020-04-06T07:00:00",
          "2020-04-06T08:00:00",
          "2020-04-06T09:00:00",
          "2020-04-06T10:00:00",
          "2020-04-06T11:00:00",
          "2020-04-06T12:00:00",
          "2020-04-06T13:00:00",
          "2020-04-06T14:00:00",
          "2020-04-06T15:00:00",
          "2020-04-06T16:00:00",
          "2020-04-06T17:00:00",
          "2020-04-06T18:00:00",
          "2020-04-06T19:00:00",
          "2020-04-06T20:00:00",
          "2020-04-06T21:00:00",
          "2020-04-06T22:00:00",
          "2020-04-06T23:00:00",
          "2020-04-07T00:00:00",
          "2020-04-07T01:00:00",
          "2020-04-07T02:00:00",
          "2020-04-07T03:00:00",
          "2020-04-07T04:00:00",
          "2020-04-07T05:00:00",
          "2020-04-07T06:00:00",
          "2020-04-07T07:00:00",
          "2020-04-07T08:00:00",
          "2020-04-07T09:00:00",
          "2020-04-07T10:00:00",
          "2020-04-07T11:00:00",
          "2020-04-07T12:00:00",
          "2020-04-07T13:00:00",
          "2020-04-07T14:00:00",
          "2020-04-07T15:00:00",
          "2020-04-07T16:00:00",
          "2020-04-07T17:00:00",
          "2020-04-07T18:00:00",
          "2020-04-07T19:00:00",
          "2020-04-07T20:00:00",
          "2020-04-07T21:00:00",
          "2020-04-07T22:00:00",
          "2020-04-07T23:00:00",
          "2020-04-08T00:00:00",
          "2020-04-08T01:00:00",
          "2020-04-08T02:00:00",
          "2020-04-08T03:00:00",
          "2020-04-08T04:00:00",
          "2020-04-08T05:00:00",
          "2020-04-08T06:00:00",
          "2020-04-08T07:00:00",
          "2020-04-08T08:00:00",
          "2020-04-08T09:00:00",
          "2020-04-08T10:00:00",
          "2020-04-08T11:00:00",
          "2020-04-08T12:00:00",
          "2020-04-08T13:00:00",
          "2020-04-08T14:00:00",
          "2020-04-08T15:00:00",
          "2020-04-08T16:00:00",
          "2020-04-08T17:00:00",
          "2020-04-08T18:00:00",
          "2020-04-08T19:00:00",
          "2020-04-08T20:00:00",
          "2020-04-08T22:00:00",
          "2020-04-08T23:00:00",
          "2020-04-09T00:00:00",
          "2020-04-09T01:00:00",
          "2020-04-09T02:00:00",
          "2020-04-09T03:00:00",
          "2020-04-09T04:00:00",
          "2020-04-09T05:00:00",
          "2020-04-09T06:00:00",
          "2020-04-09T07:00:00",
          "2020-04-09T08:00:00",
          "2020-04-09T09:00:00",
          "2020-04-09T10:00:00",
          "2020-04-09T11:00:00",
          "2020-04-09T12:00:00",
          "2020-04-09T13:00:00",
          "2020-04-09T14:00:00",
          "2020-04-09T15:00:00",
          "2020-04-09T16:00:00",
          "2020-04-09T17:00:00",
          "2020-04-09T18:00:00",
          "2020-04-09T19:00:00",
          "2020-04-09T20:00:00",
          "2020-04-09T21:00:00",
          "2020-04-09T22:00:00",
          "2020-04-09T23:00:00",
          "2020-04-10T00:00:00",
          "2020-04-10T01:00:00",
          "2020-04-10T02:00:00",
          "2020-04-10T03:00:00",
          "2020-04-10T04:00:00",
          "2020-04-10T05:00:00",
          "2020-04-10T06:00:00",
          "2020-04-10T07:00:00",
          "2020-04-10T08:00:00",
          "2020-04-10T09:00:00",
          "2020-04-10T10:00:00",
          "2020-04-10T11:00:00"
         ],
         "y": [
          5.6,
          8.6,
          7.8,
          5.4,
          9.8,
          9.2,
          9.4,
          8,
          5.4,
          9.8,
          8.4,
          6.4,
          10,
          8.6,
          7,
          6.2,
          9.8,
          9,
          5.6,
          9.6,
          8.6,
          9.6,
          9.2,
          8.2,
          9.2,
          9,
          8.8,
          8.2,
          8.8,
          9.4,
          9.4,
          9.4,
          7.8,
          4.4,
          7.4,
          10,
          7.2,
          9,
          8.6,
          9.2,
          8.4,
          9.8,
          5.2,
          9.2,
          9.8,
          9,
          7.4,
          3,
          8.6,
          8.4,
          4.2,
          9.8,
          10,
          9.4,
          8,
          9,
          8,
          9,
          10,
          9,
          8,
          9.4,
          9,
          9.6,
          8.6,
          8.8,
          8.4,
          9.6,
          9.2,
          9.8,
          9.4,
          7,
          9.8,
          6.8,
          3.4,
          9.6,
          9.8,
          6.2,
          9.8,
          5.2,
          8.6,
          9.4,
          7.8,
          9.8,
          9.2,
          9.6,
          9.6,
          9.6,
          8.6,
          9.6,
          9,
          9,
          9,
          6.4,
          5.6,
          9.6,
          9.4,
          8,
          9.2,
          9.6,
          8.6,
          9.2,
          9.6,
          9.6,
          9.4,
          7.8
         ]
        },
        {
         "name": "max shake intensity",
         "type": "scatter",
         "x": [
          "2020-04-06T00:00:00",
          "2020-04-06T01:00:00",
          "2020-04-06T03:00:00",
          "2020-04-06T04:00:00",
          "2020-04-06T05:00:00",
          "2020-04-06T06:00:00",
          "2020-04-06T07:00:00",
          "2020-04-06T08:00:00",
          "2020-04-06T09:00:00",
          "2020-04-06T10:00:00",
          "2020-04-06T11:00:00",
          "2020-04-06T12:00:00",
          "2020-04-06T13:00:00",
          "2020-04-06T14:00:00",
          "2020-04-06T15:00:00",
          "2020-04-06T16:00:00",
          "2020-04-06T17:00:00",
          "2020-04-06T18:00:00",
          "2020-04-06T19:00:00",
          "2020-04-06T20:00:00",
          "2020-04-06T21:00:00",
          "2020-04-06T22:00:00",
          "2020-04-06T23:00:00",
          "2020-04-07T00:00:00",
          "2020-04-07T01:00:00",
          "2020-04-07T02:00:00",
          "2020-04-07T03:00:00",
          "2020-04-07T04:00:00",
          "2020-04-07T05:00:00",
          "2020-04-07T06:00:00",
          "2020-04-07T07:00:00",
          "2020-04-07T08:00:00",
          "2020-04-07T09:00:00",
          "2020-04-07T10:00:00",
          "2020-04-07T11:00:00",
          "2020-04-07T12:00:00",
          "2020-04-07T13:00:00",
          "2020-04-07T14:00:00",
          "2020-04-07T15:00:00",
          "2020-04-07T16:00:00",
          "2020-04-07T17:00:00",
          "2020-04-07T18:00:00",
          "2020-04-07T19:00:00",
          "2020-04-07T20:00:00",
          "2020-04-07T21:00:00",
          "2020-04-07T22:00:00",
          "2020-04-07T23:00:00",
          "2020-04-08T00:00:00",
          "2020-04-08T01:00:00",
          "2020-04-08T02:00:00",
          "2020-04-08T03:00:00",
          "2020-04-08T04:00:00",
          "2020-04-08T05:00:00",
          "2020-04-08T06:00:00",
          "2020-04-08T07:00:00",
          "2020-04-08T08:00:00",
          "2020-04-08T09:00:00",
          "2020-04-08T10:00:00",
          "2020-04-08T11:00:00",
          "2020-04-08T12:00:00",
          "2020-04-08T13:00:00",
          "2020-04-08T14:00:00",
          "2020-04-08T15:00:00",
          "2020-04-08T16:00:00",
          "2020-04-08T17:00:00",
          "2020-04-08T18:00:00",
          "2020-04-08T19:00:00",
          "2020-04-08T20:00:00",
          "2020-04-08T22:00:00",
          "2020-04-08T23:00:00",
          "2020-04-09T00:00:00",
          "2020-04-09T01:00:00",
          "2020-04-09T02:00:00",
          "2020-04-09T03:00:00",
          "2020-04-09T04:00:00",
          "2020-04-09T05:00:00",
          "2020-04-09T06:00:00",
          "2020-04-09T07:00:00",
          "2020-04-09T08:00:00",
          "2020-04-09T09:00:00",
          "2020-04-09T10:00:00",
          "2020-04-09T11:00:00",
          "2020-04-09T12:00:00",
          "2020-04-09T13:00:00",
          "2020-04-09T14:00:00",
          "2020-04-09T15:00:00",
          "2020-04-09T16:00:00",
          "2020-04-09T17:00:00",
          "2020-04-09T18:00:00",
          "2020-04-09T19:00:00",
          "2020-04-09T20:00:00",
          "2020-04-09T21:00:00",
          "2020-04-09T22:00:00",
          "2020-04-09T23:00:00",
          "2020-04-10T00:00:00",
          "2020-04-10T01:00:00",
          "2020-04-10T02:00:00",
          "2020-04-10T03:00:00",
          "2020-04-10T04:00:00",
          "2020-04-10T05:00:00",
          "2020-04-10T06:00:00",
          "2020-04-10T07:00:00",
          "2020-04-10T08:00:00",
          "2020-04-10T09:00:00",
          "2020-04-10T10:00:00",
          "2020-04-10T11:00:00"
         ],
         "y": [
          null,
          null,
          1,
          null,
          1,
          null,
          null,
          null,
          null,
          null,
          1,
          null,
          null,
          1,
          2,
          1,
          1,
          1,
          1,
          1,
          null,
          0,
          null,
          null,
          null,
          null,
          1,
          null,
          1,
          null,
          0,
          null,
          null,
          null,
          1,
          null,
          null,
          null,
          null,
          null,
          0,
          1,
          null,
          null,
          1,
          null,
          null,
          null,
          null,
          1,
          null,
          null,
          null,
          0,
          1,
          4,
          4,
          4,
          3,
          3,
          2,
          2,
          2,
          2,
          1,
          0,
          null,
          1,
          0,
          null,
          null,
          0,
          1,
          null,
          null,
          0,
          1,
          null,
          1,
          null,
          1,
          1,
          1,
          null,
          0,
          3,
          3,
          3,
          2,
          2,
          2,
          2,
          2,
          null,
          null,
          null,
          0,
          null,
          null,
          null,
          null,
          1,
          1,
          1,
          1,
          null
         ]
        }
       ],
       "layout": {
        "template": {
         "data": {
          "bar": [
           {
            "error_x": {
             "color": "#2a3f5f"
            },
            "error_y": {
             "color": "#2a3f5f"
            },
            "marker": {
             "line": {
              "color": "#E5ECF6",
              "width": 0.5
             },
             "pattern": {
              "fillmode": "overlay",
              "size": 10,
              "solidity": 0.2
             }
            },
            "type": "bar"
           }
          ],
          "barpolar": [
           {
            "marker": {
             "line": {
              "color": "#E5ECF6",
              "width": 0.5
             },
             "pattern": {
              "fillmode": "overlay",
              "size": 10,
              "solidity": 0.2
             }
            },
            "type": "barpolar"
           }
          ],
          "carpet": [
           {
            "aaxis": {
             "endlinecolor": "#2a3f5f",
             "gridcolor": "white",
             "linecolor": "white",
             "minorgridcolor": "white",
             "startlinecolor": "#2a3f5f"
            },
            "baxis": {
             "endlinecolor": "#2a3f5f",
             "gridcolor": "white",
             "linecolor": "white",
             "minorgridcolor": "white",
             "startlinecolor": "#2a3f5f"
            },
            "type": "carpet"
           }
          ],
          "choropleth": [
           {
            "colorbar": {
             "outlinewidth": 0,
             "ticks": ""
            },
            "type": "choropleth"
           }
          ],
          "contour": [
           {
            "colorbar": {
             "outlinewidth": 0,
             "ticks": ""
            },
            "colorscale": [
             [
              0,
              "#0d0887"
             ],
             [
              0.1111111111111111,
              "#46039f"
             ],
             [
              0.2222222222222222,
              "#7201a8"
             ],
             [
              0.3333333333333333,
              "#9c179e"
             ],
             [
              0.4444444444444444,
              "#bd3786"
             ],
             [
              0.5555555555555556,
              "#d8576b"
             ],
             [
              0.6666666666666666,
              "#ed7953"
             ],
             [
              0.7777777777777778,
              "#fb9f3a"
             ],
             [
              0.8888888888888888,
              "#fdca26"
             ],
             [
              1,
              "#f0f921"
             ]
            ],
            "type": "contour"
           }
          ],
          "contourcarpet": [
           {
            "colorbar": {
             "outlinewidth": 0,
             "ticks": ""
            },
            "type": "contourcarpet"
           }
          ],
          "heatmap": [
           {
            "colorbar": {
             "outlinewidth": 0,
             "ticks": ""
            },
            "colorscale": [
             [
              0,
              "#0d0887"
             ],
             [
              0.1111111111111111,
              "#46039f"
             ],
             [
              0.2222222222222222,
              "#7201a8"
             ],
             [
              0.3333333333333333,
              "#9c179e"
             ],
             [
              0.4444444444444444,
              "#bd3786"
             ],
             [
              0.5555555555555556,
              "#d8576b"
             ],
             [
              0.6666666666666666,
              "#ed7953"
             ],
             [
              0.7777777777777778,
              "#fb9f3a"
             ],
             [
              0.8888888888888888,
              "#fdca26"
             ],
             [
              1,
              "#f0f921"
             ]
            ],
            "type": "heatmap"
           }
          ],
          "heatmapgl": [
           {
            "colorbar": {
             "outlinewidth": 0,
             "ticks": ""
            },
            "colorscale": [
             [
              0,
              "#0d0887"
             ],
             [
              0.1111111111111111,
              "#46039f"
             ],
             [
              0.2222222222222222,
              "#7201a8"
             ],
             [
              0.3333333333333333,
              "#9c179e"
             ],
             [
              0.4444444444444444,
              "#bd3786"
             ],
             [
              0.5555555555555556,
              "#d8576b"
             ],
             [
              0.6666666666666666,
              "#ed7953"
             ],
             [
              0.7777777777777778,
              "#fb9f3a"
             ],
             [
              0.8888888888888888,
              "#fdca26"
             ],
             [
              1,
              "#f0f921"
             ]
            ],
            "type": "heatmapgl"
           }
          ],
          "histogram": [
           {
            "marker": {
             "pattern": {
              "fillmode": "overlay",
              "size": 10,
              "solidity": 0.2
             }
            },
            "type": "histogram"
           }
          ],
          "histogram2d": [
           {
            "colorbar": {
             "outlinewidth": 0,
             "ticks": ""
            },
            "colorscale": [
             [
              0,
              "#0d0887"
             ],
             [
              0.1111111111111111,
              "#46039f"
             ],
             [
              0.2222222222222222,
              "#7201a8"
             ],
             [
              0.3333333333333333,
              "#9c179e"
             ],
             [
              0.4444444444444444,
              "#bd3786"
             ],
             [
              0.5555555555555556,
              "#d8576b"
             ],
             [
              0.6666666666666666,
              "#ed7953"
             ],
             [
              0.7777777777777778,
              "#fb9f3a"
             ],
             [
              0.8888888888888888,
              "#fdca26"
             ],
             [
              1,
              "#f0f921"
             ]
            ],
            "type": "histogram2d"
           }
          ],
          "histogram2dcontour": [
           {
            "colorbar": {
             "outlinewidth": 0,
             "ticks": ""
            },
            "colorscale": [
             [
              0,
              "#0d0887"
             ],
             [
              0.1111111111111111,
              "#46039f"
             ],
             [
              0.2222222222222222,
              "#7201a8"
             ],
             [
              0.3333333333333333,
              "#9c179e"
             ],
             [
              0.4444444444444444,
              "#bd3786"
             ],
             [
              0.5555555555555556,
              "#d8576b"
             ],
             [
              0.6666666666666666,
              "#ed7953"
             ],
             [
              0.7777777777777778,
              "#fb9f3a"
             ],
             [
              0.8888888888888888,
              "#fdca26"
             ],
             [
              1,
              "#f0f921"
             ]
            ],
            "type": "histogram2dcontour"
           }
          ],
          "mesh3d": [
           {
            "colorbar": {
             "outlinewidth": 0,
             "ticks": ""
            },
            "type": "mesh3d"
           }
          ],
          "parcoords": [
           {
            "line": {
             "colorbar": {
              "outlinewidth": 0,
              "ticks": ""
             }
            },
            "type": "parcoords"
           }
          ],
          "pie": [
           {
            "automargin": true,
            "type": "pie"
           }
          ],
          "scatter": [
           {
            "fillpattern": {
             "fillmode": "overlay",
             "size": 10,
             "solidity": 0.2
            },
            "type": "scatter"
           }
          ],
          "scatter3d": [
           {
            "line": {
             "colorbar": {
              "outlinewidth": 0,
              "ticks": ""
             }
            },
            "marker": {
             "colorbar": {
              "outlinewidth": 0,
              "ticks": ""
             }
            },
            "type": "scatter3d"
           }
          ],
          "scattercarpet": [
           {
            "marker": {
             "colorbar": {
              "outlinewidth": 0,
              "ticks": ""
             }
            },
            "type": "scattercarpet"
           }
          ],
          "scattergeo": [
           {
            "marker": {
             "colorbar": {
              "outlinewidth": 0,
              "ticks": ""
             }
            },
            "type": "scattergeo"
           }
          ],
          "scattergl": [
           {
            "marker": {
             "colorbar": {
              "outlinewidth": 0,
              "ticks": ""
             }
            },
            "type": "scattergl"
           }
          ],
          "scattermapbox": [
           {
            "marker": {
             "colorbar": {
              "outlinewidth": 0,
              "ticks": ""
             }
            },
            "type": "scattermapbox"
           }
          ],
          "scatterpolar": [
           {
            "marker": {
             "colorbar": {
              "outlinewidth": 0,
              "ticks": ""
             }
            },
            "type": "scatterpolar"
           }
          ],
          "scatterpolargl": [
           {
            "marker": {
             "colorbar": {
              "outlinewidth": 0,
              "ticks": ""
             }
            },
            "type": "scatterpolargl"
           }
          ],
          "scatterternary": [
           {
            "marker": {
             "colorbar": {
              "outlinewidth": 0,
              "ticks": ""
             }
            },
            "type": "scatterternary"
           }
          ],
          "surface": [
           {
            "colorbar": {
             "outlinewidth": 0,
             "ticks": ""
            },
            "colorscale": [
             [
              0,
              "#0d0887"
             ],
             [
              0.1111111111111111,
              "#46039f"
             ],
             [
              0.2222222222222222,
              "#7201a8"
             ],
             [
              0.3333333333333333,
              "#9c179e"
             ],
             [
              0.4444444444444444,
              "#bd3786"
             ],
             [
              0.5555555555555556,
              "#d8576b"
             ],
             [
              0.6666666666666666,
              "#ed7953"
             ],
             [
              0.7777777777777778,
              "#fb9f3a"
             ],
             [
              0.8888888888888888,
              "#fdca26"
             ],
             [
              1,
              "#f0f921"
             ]
            ],
            "type": "surface"
           }
          ],
          "table": [
           {
            "cells": {
             "fill": {
              "color": "#EBF0F8"
             },
             "line": {
              "color": "white"
             }
            },
            "header": {
             "fill": {
              "color": "#C8D4E3"
             },
             "line": {
              "color": "white"
             }
            },
            "type": "table"
           }
          ]
         },
         "layout": {
          "annotationdefaults": {
           "arrowcolor": "#2a3f5f",
           "arrowhead": 0,
           "arrowwidth": 1
          },
          "autotypenumbers": "strict",
          "coloraxis": {
           "colorbar": {
            "outlinewidth": 0,
            "ticks": ""
           }
          },
          "colorscale": {
           "diverging": [
            [
             0,
             "#8e0152"
            ],
            [
             0.1,
             "#c51b7d"
            ],
            [
             0.2,
             "#de77ae"
            ],
            [
             0.3,
             "#f1b6da"
            ],
            [
             0.4,
             "#fde0ef"
            ],
            [
             0.5,
             "#f7f7f7"
            ],
            [
             0.6,
             "#e6f5d0"
            ],
            [
             0.7,
             "#b8e186"
            ],
            [
             0.8,
             "#7fbc41"
            ],
            [
             0.9,
             "#4d9221"
            ],
            [
             1,
             "#276419"
            ]
           ],
           "sequential": [
            [
             0,
             "#0d0887"
            ],
            [
             0.1111111111111111,
             "#46039f"
            ],
            [
             0.2222222222222222,
             "#7201a8"
            ],
            [
             0.3333333333333333,
             "#9c179e"
            ],
            [
             0.4444444444444444,
             "#bd3786"
            ],
            [
             0.5555555555555556,
             "#d8576b"
            ],
            [
             0.6666666666666666,
             "#ed7953"
            ],
            [
             0.7777777777777778,
             "#fb9f3a"
            ],
            [
             0.8888888888888888,
             "#fdca26"
            ],
            [
             1,
             "#f0f921"
            ]
           ],
           "sequentialminus": [
            [
             0,
             "#0d0887"
            ],
            [
             0.1111111111111111,
             "#46039f"
            ],
            [
             0.2222222222222222,
             "#7201a8"
            ],
            [
             0.3333333333333333,
             "#9c179e"
            ],
            [
             0.4444444444444444,
             "#bd3786"
            ],
            [
             0.5555555555555556,
             "#d8576b"
            ],
            [
             0.6666666666666666,
             "#ed7953"
            ],
            [
             0.7777777777777778,
             "#fb9f3a"
            ],
            [
             0.8888888888888888,
             "#fdca26"
            ],
            [
             1,
             "#f0f921"
            ]
           ]
          },
          "colorway": [
           "#636efa",
           "#EF553B",
           "#00cc96",
           "#ab63fa",
           "#FFA15A",
           "#19d3f3",
           "#FF6692",
           "#B6E880",
           "#FF97FF",
           "#FECB52"
          ],
          "font": {
           "color": "#2a3f5f"
          },
          "geo": {
           "bgcolor": "white",
           "lakecolor": "white",
           "landcolor": "#E5ECF6",
           "showlakes": true,
           "showland": true,
           "subunitcolor": "white"
          },
          "hoverlabel": {
           "align": "left"
          },
          "hovermode": "closest",
          "mapbox": {
           "style": "light"
          },
          "paper_bgcolor": "white",
          "plot_bgcolor": "#E5ECF6",
          "polar": {
           "angularaxis": {
            "gridcolor": "white",
            "linecolor": "white",
            "ticks": ""
           },
           "bgcolor": "#E5ECF6",
           "radialaxis": {
            "gridcolor": "white",
            "linecolor": "white",
            "ticks": ""
           }
          },
          "scene": {
           "xaxis": {
            "backgroundcolor": "#E5ECF6",
            "gridcolor": "white",
            "gridwidth": 2,
            "linecolor": "white",
            "showbackground": true,
            "ticks": "",
            "zerolinecolor": "white"
           },
           "yaxis": {
            "backgroundcolor": "#E5ECF6",
            "gridcolor": "white",
            "gridwidth": 2,
            "linecolor": "white",
            "showbackground": true,
            "ticks": "",
            "zerolinecolor": "white"
           },
           "zaxis": {
            "backgroundcolor": "#E5ECF6",
            "gridcolor": "white",
            "gridwidth": 2,
            "linecolor": "white",
            "showbackground": true,
            "ticks": "",
            "zerolinecolor": "white"
           }
          },
          "shapedefaults": {
           "line": {
            "color": "#2a3f5f"
           }
          },
          "ternary": {
           "aaxis": {
            "gridcolor": "white",
            "linecolor": "white",
            "ticks": ""
           },
           "baxis": {
            "gridcolor": "white",
            "linecolor": "white",
            "ticks": ""
           },
           "bgcolor": "#E5ECF6",
           "caxis": {
            "gridcolor": "white",
            "linecolor": "white",
            "ticks": ""
           }
          },
          "title": {
           "x": 0.05
          },
          "xaxis": {
           "automargin": true,
           "gridcolor": "white",
           "linecolor": "white",
           "ticks": "",
           "title": {
            "standoff": 15
           },
           "zerolinecolor": "white",
           "zerolinewidth": 2
          },
          "yaxis": {
           "automargin": true,
           "gridcolor": "white",
           "linecolor": "white",
           "ticks": "",
           "title": {
            "standoff": 15
           },
           "zerolinecolor": "white",
           "zerolinewidth": 2
          }
         }
        },
        "title": {
         "text": "Damage vs Shake Intensity vs Social Media Sentiment Score for Southton"
        }
       }
      }
     },
     "metadata": {},
     "output_type": "display_data"
    }
   ],
   "source": [
    "fig = go.Figure()\n",
    "location = \"Southton\"\n",
    "for trace in traces[location]:\n",
    "    fig.add_trace(trace)\n",
    "fig.update_layout({\n",
    "    \"title\": f\"Damage vs Shake Intensity vs Social Media Sentiment Score for {location}\"\n",
    "}\n",
    ")\n",
    "fig.show()"
   ]
  },
  {
   "cell_type": "code",
   "execution_count": 94,
   "metadata": {},
   "outputs": [
    {
     "data": {
      "text/html": [
       "\n",
       "        <iframe\n",
       "            width=\"100%\"\n",
       "            height=\"650\"\n",
       "            src=\"http://127.0.0.1:8050/\"\n",
       "            frameborder=\"0\"\n",
       "            allowfullscreen\n",
       "            \n",
       "        ></iframe>\n",
       "        "
      ],
      "text/plain": [
       "<IPython.lib.display.IFrame at 0x7fb3d90acd30>"
      ]
     },
     "metadata": {},
     "output_type": "display_data"
    },
    {
     "name": "stdout",
     "output_type": "stream",
     "text": [
      "updating to Southton\n",
      "updating to Cheddarford\n",
      "updating to Downtown\n",
      "updating to Old Town\n",
      "updating to Scenic Vista\n",
      "updating to Broadview\n",
      "updating to East Parton\n"
     ]
    }
   ],
   "source": [
    "figure = go.Figure()\n",
    "app = Dash(__name__)\n",
    "app.layout = html.Div([\n",
    "    dcc.Dropdown(\n",
    "        merged_sentiment_shake['location'].unique(), \n",
    "        'Southton', \n",
    "        id='selected_location',\n",
    "        style={'width':'50%', 'margin-left':'auto'}\n",
    "    ),\n",
    "    dcc.Graph(id='my-graph', figure=figure),\n",
    "])\n",
    "@app.callback(\n",
    "    Output(component_id='my-graph', component_property='figure'),\n",
    "    Input(component_id='selected_location', component_property='value')\n",
    ")\n",
    "def update_graph(selected_location):\n",
    "    print(f'updating to {selected_location}')\n",
    "    figure = go.Figure()\n",
    "    for trace in traces[selected_location]:\n",
    "        figure.add_trace(trace)\n",
    "    figure.update_layout({\n",
    "        \"title\": f\"Damage vs Shake Intensity vs Social Media Sentiment Score for {selected_location}\"\n",
    "    })\n",
    "    return figure\n",
    "\n",
    "app.run_server(debug=True)"
   ]
  }
 ],
 "metadata": {
  "kernelspec": {
   "display_name": "csc235env",
   "language": "python",
   "name": "python3"
  },
  "language_info": {
   "codemirror_mode": {
    "name": "ipython",
    "version": 3
   },
   "file_extension": ".py",
   "mimetype": "text/x-python",
   "name": "python",
   "nbconvert_exporter": "python",
   "pygments_lexer": "ipython3",
   "version": "3.10.9"
  }
 },
 "nbformat": 4,
 "nbformat_minor": 2
}
