{
 "cells": [
  {
   "cell_type": "markdown",
   "metadata": {},
   "source": [
    "Try grouping latitude/longitude into small cells. Get the max reading per cell per hour. Make a map where you can drag the slider to see at different hours"
   ]
  },
  {
   "cell_type": "code",
   "execution_count": 1,
   "metadata": {},
   "outputs": [],
   "source": [
    "import pandas as pd"
   ]
  },
  {
   "cell_type": "code",
   "execution_count": 2,
   "metadata": {},
   "outputs": [],
   "source": [
    "mobile_sensors_df = pd.read_csv('hw05-data/Sensor Data and Maps/MobileSensorReadings.csv')\n",
    "mobile_sensors_df['Timestamp'] = pd.to_datetime(mobile_sensors_df['Timestamp'])"
   ]
  },
  {
   "cell_type": "code",
   "execution_count": 13,
   "metadata": {},
   "outputs": [
    {
     "name": "stdout",
     "output_type": "stream",
     "text": [
      "0.017057, 0.238372\n",
      "-119.99995, -119.711798\n",
      "0.28815199999999663\n",
      "0.221315\n"
     ]
    }
   ],
   "source": [
    "max_reading = max(mobile_sensors_df['Value'])\n",
    "min_reading = min(mobile_sensors_df['Value'])\n",
    "max_longitude = max(mobile_sensors_df['Long'])\n",
    "min_longitude = min(mobile_sensors_df['Long'])\n",
    "max_latitude = max(mobile_sensors_df['Lat'])\n",
    "min_latitude = min(mobile_sensors_df['Lat'])\n",
    "print(f\"{min_latitude}, {max_latitude}\")\n",
    "print(f\"{min_longitude}, {max_longitude}\")\n",
    "print(max_longitude - min_longitude)\n",
    "print(max_latitude - min_latitude)"
   ]
  }
 ],
 "metadata": {
  "kernelspec": {
   "display_name": "csc235env",
   "language": "python",
   "name": "python3"
  },
  "language_info": {
   "codemirror_mode": {
    "name": "ipython",
    "version": 3
   },
   "file_extension": ".py",
   "mimetype": "text/x-python",
   "name": "python",
   "nbconvert_exporter": "python",
   "pygments_lexer": "ipython3",
   "version": "3.10.9"
  }
 },
 "nbformat": 4,
 "nbformat_minor": 2
}
