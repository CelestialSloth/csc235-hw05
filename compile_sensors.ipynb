{
 "cells": [
  {
   "cell_type": "code",
   "execution_count": 25,
   "metadata": {},
   "outputs": [],
   "source": [
    "import pandas as pd"
   ]
  },
  {
   "cell_type": "markdown",
   "metadata": {},
   "source": [
    "create dataframe with ```[Timestamp, Sensor-id + M/S, Long, Lat, Value, User-id]```\n",
    "* M/S based on either mobile or static\n",
    "* User-id is ``StaticSensor`` for static sensors"
   ]
  },
  {
   "cell_type": "code",
   "execution_count": 26,
   "metadata": {},
   "outputs": [],
   "source": [
    "col_order = ['Timestamp', 'Sensor-id', 'Long', 'Lat', 'Value', 'User-id']"
   ]
  },
  {
   "cell_type": "code",
   "execution_count": 27,
   "metadata": {},
   "outputs": [],
   "source": [
    "static_sensors_locations = pd.read_csv('hw05-data/Sensor Data and Maps/StaticSensorLocations.csv')\n",
    "static_sensors_locations_dict = static_sensors_locations.set_index('Sensor-id').T.to_dict('list')"
   ]
  },
  {
   "cell_type": "code",
   "execution_count": 28,
   "metadata": {},
   "outputs": [],
   "source": [
    "def label_lat(row):\n",
    "    return static_sensors_locations_dict[row['Sensor-id']][0]"
   ]
  },
  {
   "cell_type": "code",
   "execution_count": 29,
   "metadata": {},
   "outputs": [],
   "source": [
    "def label_long(row):\n",
    "    return static_sensors_locations_dict[row['Sensor-id']][1]"
   ]
  },
  {
   "cell_type": "code",
   "execution_count": 30,
   "metadata": {},
   "outputs": [],
   "source": [
    "# Timestamp,Sensor-id,Value,Units\n",
    "static_sensors_df = pd.read_csv('hw05-data/Sensor Data and Maps/StaticSensorReadings.csv')\n",
    "static_sensors_df['Timestamp'] = pd.to_datetime(static_sensors_df['Timestamp'])\n",
    "static_sensors_df = static_sensors_df.drop('Units', axis=1)\n",
    "static_sensors_df['Lat'] = static_sensors_df.apply(label_lat, axis=1)\n",
    "static_sensors_df['Long'] = static_sensors_df.apply(label_long, axis=1)\n",
    "static_sensors_df['Sensor-id'] = 'S'+static_sensors_df['Sensor-id'].astype(str)\n",
    "static_sensors_df['User-id'] = 'StaticSensor'\n",
    "static_sensors_df = static_sensors_df[col_order]"
   ]
  },
  {
   "cell_type": "code",
   "execution_count": 31,
   "metadata": {},
   "outputs": [],
   "source": [
    "# Timestamp,Sensor-id,Long,Lat,Value,Units, User-id\n",
    "mobile_sensors_df = pd.read_csv('hw05-data/Sensor Data and Maps/MobileSensorReadings.csv')\n",
    "mobile_sensors_df['Timestamp'] = pd.to_datetime(mobile_sensors_df['Timestamp'])\n",
    "mobile_sensors_df = mobile_sensors_df.drop('Units', axis=1)\n",
    "mobile_sensors_df['Sensor-id'] = 'M'+mobile_sensors_df['Sensor-id'].astype(str)\n",
    "mobile_sensors_df.rename(columns={' User-id': 'User-id'}, inplace=True)\n",
    "mobile_sensors_df = mobile_sensors_df[col_order]"
   ]
  },
  {
   "cell_type": "code",
   "execution_count": null,
   "metadata": {},
   "outputs": [],
   "source": [
    "all_sensors_df = pd.concat([static_sensors_df, mobile_sensors_df], ignore_index=True)"
   ]
  },
  {
   "cell_type": "code",
   "execution_count": null,
   "metadata": {},
   "outputs": [],
   "source": [
    "all_sensors_df.to_csv('hw05-data/Sensor Data and Maps/AllSensorReadings.csv')"
   ]
  }
 ],
 "metadata": {
  "kernelspec": {
   "display_name": "csc235env",
   "language": "python",
   "name": "python3"
  },
  "language_info": {
   "codemirror_mode": {
    "name": "ipython",
    "version": 3
   },
   "file_extension": ".py",
   "mimetype": "text/x-python",
   "name": "python",
   "nbconvert_exporter": "python",
   "pygments_lexer": "ipython3",
   "version": "3.10.9"
  }
 },
 "nbformat": 4,
 "nbformat_minor": 2
}
